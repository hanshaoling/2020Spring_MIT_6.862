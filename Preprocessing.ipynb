{
 "cells": [
  {
   "cell_type": "code",
   "execution_count": 1,
   "metadata": {},
   "outputs": [],
   "source": [
    "import os\n",
    "import numpy as np\n",
    "import pandas as pd\n",
    "import matplotlib.pyplot as plt\n",
    "%matplotlib inline\n",
    "import pathlib\n",
    "#working_dir = pathlib.Path().absolute()\n",
    "#os.chdir(working_dir)\n",
    "import seaborn as sns\n",
    "import tensorflow as tf\n",
    "from tensorflow.keras import Input\n",
    "from tensorflow.keras.models import Sequential, Model\n",
    "from tensorflow.keras.layers import Dense, Dropout, Flatten, Activation, Reshape\n",
    "from tensorflow.keras.layers import Conv2D, MaxPooling2D, UpSampling2D\n",
    "from tensorflow.keras.optimizers import Adam, SGD\n",
    "from PIL import Image\n",
    "import tables"
   ]
  },
  {
   "cell_type": "code",
   "execution_count": 2,
   "metadata": {},
   "outputs": [],
   "source": [
    "lesion_type_dict = {\n",
    "    'nv': 'Melanocytic nevi',\n",
    "    'mel': 'Melanoma',\n",
    "    'bkl': 'Benign keratosis-like lesions ',\n",
    "    'bcc': 'Basal cell carcinoma',\n",
    "    'akiec': 'Actinic keratoses',\n",
    "    'vasc': 'Vascular lesions',\n",
    "    'df': 'Dermatofibroma'\n",
    "}"
   ]
  },
  {
   "cell_type": "code",
   "execution_count": 3,
   "metadata": {},
   "outputs": [],
   "source": [
    "meta_df=pd.read_csv('skin-cancer-mnist-ham10000/HAM10000_metadata.csv')"
   ]
  },
  {
   "cell_type": "code",
   "execution_count": 4,
   "metadata": {},
   "outputs": [],
   "source": [
    "meta_df['path']='skin-cancer-mnist-ham10000/HAM10000_images/'+meta_df['image_id']+'.jpg'\n",
    "meta_df['cell_type'] = meta_df['dx'].map(lesion_type_dict.get) \n",
    "meta_df['cell_type_idx'] = pd.Categorical(meta_df['cell_type']).codes"
   ]
  },
  {
   "cell_type": "code",
   "execution_count": 5,
   "metadata": {},
   "outputs": [],
   "source": [
    "meta_df['age'].fillna((meta_df['age'].mean()), inplace=True)"
   ]
  },
  {
   "cell_type": "code",
   "execution_count": 6,
   "metadata": {},
   "outputs": [
    {
     "data": {
      "text/plain": [
       "lesion_id        0\n",
       "image_id         0\n",
       "dx               0\n",
       "dx_type          0\n",
       "age              0\n",
       "sex              0\n",
       "localization     0\n",
       "path             0\n",
       "cell_type        0\n",
       "cell_type_idx    0\n",
       "dtype: int64"
      ]
     },
     "execution_count": 6,
     "metadata": {},
     "output_type": "execute_result"
    }
   ],
   "source": [
    "meta_df.isnull().sum()"
   ]
  },
  {
   "cell_type": "code",
   "execution_count": 7,
   "metadata": {},
   "outputs": [
    {
     "name": "stdout",
     "output_type": "stream",
     "text": [
      "Wall time: 1.98 s\n"
     ]
    },
    {
     "data": {
      "text/plain": [
       "1     [[[23, 13, 23], [25, 14, 30], [39, 26, 49], [6...\n",
       "2     [[[186, 130, 141], [192, 136, 151], [198, 143,...\n",
       "3     [[[24, 11, 19], [38, 21, 31], [66, 39, 51], [9...\n",
       "4     [[[141, 97, 120], [160, 115, 140], [179, 134, ...\n",
       "5     [[[5, 0, 1], [9, 1, 4], [13, 3, 7], [17, 5, 10...\n",
       "                            ...                        \n",
       "95    [[[102, 65, 75], [111, 73, 81], [117, 78, 85],...\n",
       "96    [[[167, 110, 129], [169, 114, 131], [170, 114,...\n",
       "97    [[[147, 114, 136], [147, 113, 136], [147, 110,...\n",
       "98    [[[19, 15, 16], [23, 16, 16], [28, 18, 18], [4...\n",
       "99    [[[130, 107, 114], [142, 115, 120], [146, 119,...\n",
       "Name: path, Length: 99, dtype: object"
      ]
     },
     "execution_count": 7,
     "metadata": {},
     "output_type": "execute_result"
    }
   ],
   "source": [
    "%%time\n",
    "meta_df['path'][1:100].map(lambda x: np.asarray(Image.open(x).resize((64,48))))"
   ]
  },
  {
   "cell_type": "code",
   "execution_count": 49,
   "metadata": {},
   "outputs": [
    {
     "name": "stdout",
     "output_type": "stream",
     "text": [
      "Wall time: 175 ms\n"
     ]
    },
    {
     "data": {
      "text/plain": [
       "1    [[17, 19, 33, 54, 78, 97, 113, 127, 145, 150, ...\n",
       "2    [[148, 154, 161, 161, 161, 161, 166, 169, 173,...\n",
       "3    [[16, 27, 49, 72, 88, 106, 127, 134, 132, 123,...\n",
       "4    [[113, 131, 150, 162, 169, 179, 183, 193, 199,...\n",
       "5    [[2, 4, 6, 9, 12, 15, 16, 15, 21, 46, 76, 107,...\n",
       "6    [[160, 158, 159, 163, 165, 159, 161, 165, 167,...\n",
       "7    [[120, 133, 138, 136, 139, 139, 143, 144, 145,...\n",
       "8    [[81, 100, 114, 128, 139, 136, 137, 145, 154, ...\n",
       "9    [[197, 194, 191, 192, 190, 189, 187, 186, 178,...\n",
       "Name: path, dtype: object"
      ]
     },
     "execution_count": 49,
     "metadata": {},
     "output_type": "execute_result"
    }
   ],
   "source": [
    "%%time\n",
    "meta_df['path'][1:10].map(lambda x: np.asarray(Image.open(x).convert('L').resize((64,48))))"
   ]
  },
  {
   "cell_type": "code",
   "execution_count": 8,
   "metadata": {},
   "outputs": [
    {
     "name": "stderr",
     "output_type": "stream",
     "text": [
      "C:\\Users\\sugar\\Anaconda3\\envs\\cs109b\\lib\\site-packages\\pandas\\core\\generic.py:2530: PerformanceWarning: \n",
      "your performance may suffer as PyTables will pickle object types that it cannot\n",
      "map directly to c-types [inferred_type->mixed,key->block2_values] [items->['lesion_id', 'image_id', 'dx', 'dx_type', 'sex', 'localization', 'path', 'cell_type', 'image_rgb', 'image_gray']]\n",
      "\n",
      "  pytables.to_hdf(path_or_buf, key, self, **kwargs)\n"
     ]
    },
    {
     "name": "stdout",
     "output_type": "stream",
     "text": [
      "Wall time: 6min\n"
     ]
    }
   ],
   "source": [
    "%%time\n",
    "meta_df['image_rgb'] = meta_df['path'].map(lambda x: np.asarray(Image.open(x).resize((48,36))))/255\n",
    "meta_df['image_gray'] = meta_df['path'].map(lambda x: np.asarray(Image.open(x).convert('L').resize((48,36))))/255\n",
    "meta_df.to_hdf('ham10000_48_36.h5',key='meta_df')\n"
   ]
  },
  {
   "cell_type": "code",
   "execution_count": 10,
   "metadata": {},
   "outputs": [
    {
     "data": {
      "text/plain": [
       "(36, 48, 3)"
      ]
     },
     "execution_count": 10,
     "metadata": {},
     "output_type": "execute_result"
    }
   ],
   "source": [
    "meta_df.image_rgb[0].shape"
   ]
  },
  {
   "cell_type": "code",
   "execution_count": 11,
   "metadata": {},
   "outputs": [
    {
     "name": "stdout",
     "output_type": "stream",
     "text": [
      "Wall time: 6min 46s\n"
     ]
    }
   ],
   "source": [
    "%%time\n",
    "meta_df['image_rgb'] = meta_df['path'].map(lambda x: np.asarray(Image.open(x).resize((32,24))))/255\n",
    "meta_df['image_gray'] = meta_df['path'].map(lambda x: np.asarray(Image.open(x).convert('L').resize((32,24))))/255\n",
    "meta_df.to_hdf('ham10000_32_24.h5',key='meta_df')\n"
   ]
  },
  {
   "cell_type": "code",
   "execution_count": 55,
   "metadata": {},
   "outputs": [
    {
     "name": "stderr",
     "output_type": "stream",
     "text": [
      "C:\\Users\\sugar\\Anaconda3\\envs\\cs109b\\lib\\site-packages\\pandas\\core\\generic.py:2530: PerformanceWarning: \n",
      "your performance may suffer as PyTables will pickle object types that it cannot\n",
      "map directly to c-types [inferred_type->mixed,key->block2_values] [items->['lesion_id', 'image_id', 'dx', 'dx_type', 'sex', 'localization', 'path', 'cell_type', 'image_rgb', 'image_gray']]\n",
      "\n",
      "  pytables.to_hdf(path_or_buf, key, self, **kwargs)\n"
     ]
    },
    {
     "name": "stdout",
     "output_type": "stream",
     "text": [
      "Wall time: 6min 17s\n"
     ]
    }
   ],
   "source": [
    "%%time\n",
    "meta_df['image_rgb'] = meta_df['path'].map(lambda x: np.asarray(Image.open(x).resize((64,48))))/255\n",
    "meta_df['image_gray'] = meta_df['path'].map(lambda x: np.asarray(Image.open(x).convert('L').resize((64,48))))/255\n",
    "meta_df.to_hdf('ham10000_64_48.h5',key='meta_df')\n"
   ]
  },
  {
   "cell_type": "code",
   "execution_count": 56,
   "metadata": {},
   "outputs": [],
   "source": [
    "qqq=pd.read_hdf('ham10000_64_48.h5')"
   ]
  },
  {
   "cell_type": "code",
   "execution_count": 57,
   "metadata": {},
   "outputs": [
    {
     "data": {
      "text/plain": [
       "pandas.core.frame.DataFrame"
      ]
     },
     "execution_count": 57,
     "metadata": {},
     "output_type": "execute_result"
    }
   ],
   "source": [
    "type(qqq)"
   ]
  },
  {
   "cell_type": "code",
   "execution_count": 58,
   "metadata": {},
   "outputs": [
    {
     "data": {
      "text/html": [
       "<div>\n",
       "<style scoped>\n",
       "    .dataframe tbody tr th:only-of-type {\n",
       "        vertical-align: middle;\n",
       "    }\n",
       "\n",
       "    .dataframe tbody tr th {\n",
       "        vertical-align: top;\n",
       "    }\n",
       "\n",
       "    .dataframe thead th {\n",
       "        text-align: right;\n",
       "    }\n",
       "</style>\n",
       "<table border=\"1\" class=\"dataframe\">\n",
       "  <thead>\n",
       "    <tr style=\"text-align: right;\">\n",
       "      <th></th>\n",
       "      <th>lesion_id</th>\n",
       "      <th>image_id</th>\n",
       "      <th>dx</th>\n",
       "      <th>dx_type</th>\n",
       "      <th>age</th>\n",
       "      <th>sex</th>\n",
       "      <th>localization</th>\n",
       "      <th>path</th>\n",
       "      <th>cell_type</th>\n",
       "      <th>cell_type_idx</th>\n",
       "      <th>image_rgb</th>\n",
       "      <th>image_gray</th>\n",
       "    </tr>\n",
       "  </thead>\n",
       "  <tbody>\n",
       "    <tr>\n",
       "      <th>0</th>\n",
       "      <td>HAM_0000118</td>\n",
       "      <td>ISIC_0027419</td>\n",
       "      <td>bkl</td>\n",
       "      <td>histo</td>\n",
       "      <td>80.0</td>\n",
       "      <td>male</td>\n",
       "      <td>scalp</td>\n",
       "      <td>skin-cancer-mnist-ham10000/HAM10000_images/ISI...</td>\n",
       "      <td>Benign keratosis-like lesions</td>\n",
       "      <td>2</td>\n",
       "      <td>[[[0.7490196078431373, 0.5882352941176471, 0.7...</td>\n",
       "      <td>[[0.6549019607843137, 0.6627450980392157, 0.66...</td>\n",
       "    </tr>\n",
       "    <tr>\n",
       "      <th>1</th>\n",
       "      <td>HAM_0000118</td>\n",
       "      <td>ISIC_0025030</td>\n",
       "      <td>bkl</td>\n",
       "      <td>histo</td>\n",
       "      <td>80.0</td>\n",
       "      <td>male</td>\n",
       "      <td>scalp</td>\n",
       "      <td>skin-cancer-mnist-ham10000/HAM10000_images/ISI...</td>\n",
       "      <td>Benign keratosis-like lesions</td>\n",
       "      <td>2</td>\n",
       "      <td>[[[0.09019607843137255, 0.050980392156862744, ...</td>\n",
       "      <td>[[0.06666666666666667, 0.07450980392156863, 0....</td>\n",
       "    </tr>\n",
       "    <tr>\n",
       "      <th>2</th>\n",
       "      <td>HAM_0002730</td>\n",
       "      <td>ISIC_0026769</td>\n",
       "      <td>bkl</td>\n",
       "      <td>histo</td>\n",
       "      <td>80.0</td>\n",
       "      <td>male</td>\n",
       "      <td>scalp</td>\n",
       "      <td>skin-cancer-mnist-ham10000/HAM10000_images/ISI...</td>\n",
       "      <td>Benign keratosis-like lesions</td>\n",
       "      <td>2</td>\n",
       "      <td>[[[0.7294117647058823, 0.5098039215686274, 0.5...</td>\n",
       "      <td>[[0.5803921568627451, 0.6039215686274509, 0.63...</td>\n",
       "    </tr>\n",
       "    <tr>\n",
       "      <th>3</th>\n",
       "      <td>HAM_0002730</td>\n",
       "      <td>ISIC_0025661</td>\n",
       "      <td>bkl</td>\n",
       "      <td>histo</td>\n",
       "      <td>80.0</td>\n",
       "      <td>male</td>\n",
       "      <td>scalp</td>\n",
       "      <td>skin-cancer-mnist-ham10000/HAM10000_images/ISI...</td>\n",
       "      <td>Benign keratosis-like lesions</td>\n",
       "      <td>2</td>\n",
       "      <td>[[[0.09411764705882353, 0.043137254901960784, ...</td>\n",
       "      <td>[[0.06274509803921569, 0.10588235294117647, 0....</td>\n",
       "    </tr>\n",
       "    <tr>\n",
       "      <th>4</th>\n",
       "      <td>HAM_0001466</td>\n",
       "      <td>ISIC_0031633</td>\n",
       "      <td>bkl</td>\n",
       "      <td>histo</td>\n",
       "      <td>75.0</td>\n",
       "      <td>male</td>\n",
       "      <td>ear</td>\n",
       "      <td>skin-cancer-mnist-ham10000/HAM10000_images/ISI...</td>\n",
       "      <td>Benign keratosis-like lesions</td>\n",
       "      <td>2</td>\n",
       "      <td>[[[0.5529411764705883, 0.3803921568627451, 0.4...</td>\n",
       "      <td>[[0.44313725490196076, 0.5137254901960784, 0.5...</td>\n",
       "    </tr>\n",
       "  </tbody>\n",
       "</table>\n",
       "</div>"
      ],
      "text/plain": [
       "     lesion_id      image_id   dx dx_type   age   sex localization  \\\n",
       "0  HAM_0000118  ISIC_0027419  bkl   histo  80.0  male        scalp   \n",
       "1  HAM_0000118  ISIC_0025030  bkl   histo  80.0  male        scalp   \n",
       "2  HAM_0002730  ISIC_0026769  bkl   histo  80.0  male        scalp   \n",
       "3  HAM_0002730  ISIC_0025661  bkl   histo  80.0  male        scalp   \n",
       "4  HAM_0001466  ISIC_0031633  bkl   histo  75.0  male          ear   \n",
       "\n",
       "                                                path  \\\n",
       "0  skin-cancer-mnist-ham10000/HAM10000_images/ISI...   \n",
       "1  skin-cancer-mnist-ham10000/HAM10000_images/ISI...   \n",
       "2  skin-cancer-mnist-ham10000/HAM10000_images/ISI...   \n",
       "3  skin-cancer-mnist-ham10000/HAM10000_images/ISI...   \n",
       "4  skin-cancer-mnist-ham10000/HAM10000_images/ISI...   \n",
       "\n",
       "                        cell_type  cell_type_idx  \\\n",
       "0  Benign keratosis-like lesions               2   \n",
       "1  Benign keratosis-like lesions               2   \n",
       "2  Benign keratosis-like lesions               2   \n",
       "3  Benign keratosis-like lesions               2   \n",
       "4  Benign keratosis-like lesions               2   \n",
       "\n",
       "                                           image_rgb  \\\n",
       "0  [[[0.7490196078431373, 0.5882352941176471, 0.7...   \n",
       "1  [[[0.09019607843137255, 0.050980392156862744, ...   \n",
       "2  [[[0.7294117647058823, 0.5098039215686274, 0.5...   \n",
       "3  [[[0.09411764705882353, 0.043137254901960784, ...   \n",
       "4  [[[0.5529411764705883, 0.3803921568627451, 0.4...   \n",
       "\n",
       "                                          image_gray  \n",
       "0  [[0.6549019607843137, 0.6627450980392157, 0.66...  \n",
       "1  [[0.06666666666666667, 0.07450980392156863, 0....  \n",
       "2  [[0.5803921568627451, 0.6039215686274509, 0.63...  \n",
       "3  [[0.06274509803921569, 0.10588235294117647, 0....  \n",
       "4  [[0.44313725490196076, 0.5137254901960784, 0.5...  "
      ]
     },
     "execution_count": 58,
     "metadata": {},
     "output_type": "execute_result"
    }
   ],
   "source": [
    "qqq.head()"
   ]
  },
  {
   "cell_type": "code",
   "execution_count": 60,
   "metadata": {},
   "outputs": [
    {
     "data": {
      "text/plain": [
       "'1.17.5'"
      ]
     },
     "execution_count": 60,
     "metadata": {},
     "output_type": "execute_result"
    }
   ],
   "source": [
    "np.__version__"
   ]
  },
  {
   "cell_type": "code",
   "execution_count": 26,
   "metadata": {},
   "outputs": [
    {
     "data": {
      "text/html": [
       "<div>\n",
       "<style scoped>\n",
       "    .dataframe tbody tr th:only-of-type {\n",
       "        vertical-align: middle;\n",
       "    }\n",
       "\n",
       "    .dataframe tbody tr th {\n",
       "        vertical-align: top;\n",
       "    }\n",
       "\n",
       "    .dataframe thead th {\n",
       "        text-align: right;\n",
       "    }\n",
       "</style>\n",
       "<table border=\"1\" class=\"dataframe\">\n",
       "  <thead>\n",
       "    <tr style=\"text-align: right;\">\n",
       "      <th></th>\n",
       "      <th>lesion_id</th>\n",
       "      <th>image_id</th>\n",
       "      <th>dx</th>\n",
       "      <th>dx_type</th>\n",
       "      <th>age</th>\n",
       "      <th>sex</th>\n",
       "      <th>localization</th>\n",
       "      <th>path</th>\n",
       "      <th>cell_type</th>\n",
       "      <th>cell_type_idx</th>\n",
       "      <th>image</th>\n",
       "    </tr>\n",
       "  </thead>\n",
       "  <tbody>\n",
       "    <tr>\n",
       "      <th>0</th>\n",
       "      <td>HAM_0000118</td>\n",
       "      <td>ISIC_0027419</td>\n",
       "      <td>bkl</td>\n",
       "      <td>histo</td>\n",
       "      <td>80.0</td>\n",
       "      <td>male</td>\n",
       "      <td>scalp</td>\n",
       "      <td>skin-cancer-mnist-ham10000/HAM10000_images/ISI...</td>\n",
       "      <td>Benign keratosis-like lesions</td>\n",
       "      <td>2</td>\n",
       "      <td>[[[191, 150, 191], [192, 153, 194], [193, 151,...</td>\n",
       "    </tr>\n",
       "    <tr>\n",
       "      <th>1</th>\n",
       "      <td>HAM_0000118</td>\n",
       "      <td>ISIC_0025030</td>\n",
       "      <td>bkl</td>\n",
       "      <td>histo</td>\n",
       "      <td>80.0</td>\n",
       "      <td>male</td>\n",
       "      <td>scalp</td>\n",
       "      <td>skin-cancer-mnist-ham10000/HAM10000_images/ISI...</td>\n",
       "      <td>Benign keratosis-like lesions</td>\n",
       "      <td>2</td>\n",
       "      <td>[[[23, 13, 23], [25, 14, 30], [39, 26, 49], [6...</td>\n",
       "    </tr>\n",
       "    <tr>\n",
       "      <th>2</th>\n",
       "      <td>HAM_0002730</td>\n",
       "      <td>ISIC_0026769</td>\n",
       "      <td>bkl</td>\n",
       "      <td>histo</td>\n",
       "      <td>80.0</td>\n",
       "      <td>male</td>\n",
       "      <td>scalp</td>\n",
       "      <td>skin-cancer-mnist-ham10000/HAM10000_images/ISI...</td>\n",
       "      <td>Benign keratosis-like lesions</td>\n",
       "      <td>2</td>\n",
       "      <td>[[[186, 130, 141], [192, 136, 151], [198, 143,...</td>\n",
       "    </tr>\n",
       "    <tr>\n",
       "      <th>3</th>\n",
       "      <td>HAM_0002730</td>\n",
       "      <td>ISIC_0025661</td>\n",
       "      <td>bkl</td>\n",
       "      <td>histo</td>\n",
       "      <td>80.0</td>\n",
       "      <td>male</td>\n",
       "      <td>scalp</td>\n",
       "      <td>skin-cancer-mnist-ham10000/HAM10000_images/ISI...</td>\n",
       "      <td>Benign keratosis-like lesions</td>\n",
       "      <td>2</td>\n",
       "      <td>[[[24, 11, 19], [38, 21, 31], [66, 39, 51], [9...</td>\n",
       "    </tr>\n",
       "    <tr>\n",
       "      <th>4</th>\n",
       "      <td>HAM_0001466</td>\n",
       "      <td>ISIC_0031633</td>\n",
       "      <td>bkl</td>\n",
       "      <td>histo</td>\n",
       "      <td>75.0</td>\n",
       "      <td>male</td>\n",
       "      <td>ear</td>\n",
       "      <td>skin-cancer-mnist-ham10000/HAM10000_images/ISI...</td>\n",
       "      <td>Benign keratosis-like lesions</td>\n",
       "      <td>2</td>\n",
       "      <td>[[[141, 97, 120], [160, 115, 140], [179, 134, ...</td>\n",
       "    </tr>\n",
       "  </tbody>\n",
       "</table>\n",
       "</div>"
      ],
      "text/plain": [
       "     lesion_id      image_id   dx dx_type   age   sex localization  \\\n",
       "0  HAM_0000118  ISIC_0027419  bkl   histo  80.0  male        scalp   \n",
       "1  HAM_0000118  ISIC_0025030  bkl   histo  80.0  male        scalp   \n",
       "2  HAM_0002730  ISIC_0026769  bkl   histo  80.0  male        scalp   \n",
       "3  HAM_0002730  ISIC_0025661  bkl   histo  80.0  male        scalp   \n",
       "4  HAM_0001466  ISIC_0031633  bkl   histo  75.0  male          ear   \n",
       "\n",
       "                                                path  \\\n",
       "0  skin-cancer-mnist-ham10000/HAM10000_images/ISI...   \n",
       "1  skin-cancer-mnist-ham10000/HAM10000_images/ISI...   \n",
       "2  skin-cancer-mnist-ham10000/HAM10000_images/ISI...   \n",
       "3  skin-cancer-mnist-ham10000/HAM10000_images/ISI...   \n",
       "4  skin-cancer-mnist-ham10000/HAM10000_images/ISI...   \n",
       "\n",
       "                        cell_type  cell_type_idx  \\\n",
       "0  Benign keratosis-like lesions               2   \n",
       "1  Benign keratosis-like lesions               2   \n",
       "2  Benign keratosis-like lesions               2   \n",
       "3  Benign keratosis-like lesions               2   \n",
       "4  Benign keratosis-like lesions               2   \n",
       "\n",
       "                                               image  \n",
       "0  [[[191, 150, 191], [192, 153, 194], [193, 151,...  \n",
       "1  [[[23, 13, 23], [25, 14, 30], [39, 26, 49], [6...  \n",
       "2  [[[186, 130, 141], [192, 136, 151], [198, 143,...  \n",
       "3  [[[24, 11, 19], [38, 21, 31], [66, 39, 51], [9...  \n",
       "4  [[[141, 97, 120], [160, 115, 140], [179, 134, ...  "
      ]
     },
     "execution_count": 26,
     "metadata": {},
     "output_type": "execute_result"
    }
   ],
   "source": [
    "meta_df.head()"
   ]
  },
  {
   "cell_type": "code",
   "execution_count": 28,
   "metadata": {},
   "outputs": [],
   "source": [
    "meta_df.to_csv('kkkk.csv')"
   ]
  },
  {
   "cell_type": "code",
   "execution_count": 29,
   "metadata": {},
   "outputs": [
    {
     "data": {
      "text/plain": [
       "0        [[[191, 150, 191], [192, 153, 194], [193, 151,...\n",
       "1        [[[23, 13, 23], [25, 14, 30], [39, 26, 49], [6...\n",
       "2        [[[186, 130, 141], [192, 136, 151], [198, 143,...\n",
       "3        [[[24, 11, 19], [38, 21, 31], [66, 39, 51], [9...\n",
       "4        [[[141, 97, 120], [160, 115, 140], [179, 134, ...\n",
       "                               ...                        \n",
       "10010    [[[171, 153, 166], [170, 153, 166], [167, 150,...\n",
       "10011    [[[6, 7, 4], [7, 8, 5], [9, 8, 6], [33, 30, 28...\n",
       "10012    [[[119, 110, 112], [140, 127, 127], [136, 119,...\n",
       "10013    [[[160, 123, 145], [157, 118, 137], [162, 130,...\n",
       "10014    [[[175, 142, 126], [176, 142, 124], [180, 149,...\n",
       "Name: image, Length: 10015, dtype: object"
      ]
     },
     "execution_count": 29,
     "metadata": {},
     "output_type": "execute_result"
    }
   ],
   "source": [
    "meta_df.image"
   ]
  },
  {
   "cell_type": "code",
   "execution_count": 33,
   "metadata": {},
   "outputs": [
    {
     "data": {
      "text/plain": [
       "array([[[191, 150, 191],\n",
       "        [192, 153, 194],\n",
       "        [193, 151, 194],\n",
       "        ...,\n",
       "        [197, 156, 167],\n",
       "        [194, 152, 161],\n",
       "        [194, 154, 166]],\n",
       "\n",
       "       [[191, 152, 188],\n",
       "        [194, 156, 194],\n",
       "        [197, 161, 202],\n",
       "        ...,\n",
       "        [197, 156, 164],\n",
       "        [194, 151, 156],\n",
       "        [190, 147, 156]],\n",
       "\n",
       "       [[196, 163, 200],\n",
       "        [199, 162, 204],\n",
       "        [200, 164, 203],\n",
       "        ...,\n",
       "        [197, 157, 169],\n",
       "        [196, 157, 169],\n",
       "        [187, 146, 165]],\n",
       "\n",
       "       ...,\n",
       "\n",
       "       [[180, 146, 181],\n",
       "        [189, 156, 186],\n",
       "        [198, 166, 194],\n",
       "        ...,\n",
       "        [190, 159, 185],\n",
       "        [190, 160, 189],\n",
       "        [190, 158, 195]],\n",
       "\n",
       "       [[172, 138, 172],\n",
       "        [180, 146, 175],\n",
       "        [189, 153, 178],\n",
       "        ...,\n",
       "        [186, 153, 173],\n",
       "        [187, 155, 179],\n",
       "        [185, 152, 177]],\n",
       "\n",
       "       [[163, 128, 158],\n",
       "        [171, 133, 159],\n",
       "        [180, 141, 168],\n",
       "        ...,\n",
       "        [185, 153, 177],\n",
       "        [185, 154, 180],\n",
       "        [182, 151, 172]]], dtype=uint8)"
      ]
     },
     "execution_count": 33,
     "metadata": {},
     "output_type": "execute_result"
    }
   ],
   "source": [
    "meta_df.image[0]"
   ]
  },
  {
   "cell_type": "code",
   "execution_count": 32,
   "metadata": {},
   "outputs": [
    {
     "data": {
      "text/plain": [
       "pandas.core.series.Series"
      ]
     },
     "execution_count": 32,
     "metadata": {},
     "output_type": "execute_result"
    }
   ],
   "source": [
    "type(meta_df.image)"
   ]
  },
  {
   "cell_type": "code",
   "execution_count": 34,
   "metadata": {},
   "outputs": [
    {
     "data": {
      "text/plain": [
       "8434141"
      ]
     },
     "execution_count": 34,
     "metadata": {},
     "output_type": "execute_result"
    }
   ],
   "source": [
    "import sys\n",
    "sys.getsizeof(meta_df)"
   ]
  },
  {
   "cell_type": "code",
   "execution_count": 37,
   "metadata": {},
   "outputs": [
    {
     "name": "stderr",
     "output_type": "stream",
     "text": [
      "C:\\Users\\sugar\\Anaconda3\\envs\\cs109b\\lib\\site-packages\\pandas\\core\\generic.py:2530: PerformanceWarning: \n",
      "your performance may suffer as PyTables will pickle object types that it cannot\n",
      "map directly to c-types [inferred_type->mixed,key->block2_values] [items->['lesion_id', 'image_id', 'dx', 'dx_type', 'sex', 'localization', 'path', 'cell_type', 'image']]\n",
      "\n",
      "  pytables.to_hdf(path_or_buf, key, self, **kwargs)\n"
     ]
    }
   ],
   "source": [
    "import tables\n",
    "meta_df.to_hdf('kkkk.h5',key='meta_df')"
   ]
  },
  {
   "cell_type": "code",
   "execution_count": 38,
   "metadata": {},
   "outputs": [],
   "source": [
    "df2=pd.read_hdf('kkkk.h5','meta_df')"
   ]
  },
  {
   "cell_type": "code",
   "execution_count": 39,
   "metadata": {},
   "outputs": [
    {
     "data": {
      "text/html": [
       "<div>\n",
       "<style scoped>\n",
       "    .dataframe tbody tr th:only-of-type {\n",
       "        vertical-align: middle;\n",
       "    }\n",
       "\n",
       "    .dataframe tbody tr th {\n",
       "        vertical-align: top;\n",
       "    }\n",
       "\n",
       "    .dataframe thead th {\n",
       "        text-align: right;\n",
       "    }\n",
       "</style>\n",
       "<table border=\"1\" class=\"dataframe\">\n",
       "  <thead>\n",
       "    <tr style=\"text-align: right;\">\n",
       "      <th></th>\n",
       "      <th>lesion_id</th>\n",
       "      <th>image_id</th>\n",
       "      <th>dx</th>\n",
       "      <th>dx_type</th>\n",
       "      <th>age</th>\n",
       "      <th>sex</th>\n",
       "      <th>localization</th>\n",
       "      <th>path</th>\n",
       "      <th>cell_type</th>\n",
       "      <th>cell_type_idx</th>\n",
       "      <th>image</th>\n",
       "    </tr>\n",
       "  </thead>\n",
       "  <tbody>\n",
       "    <tr>\n",
       "      <th>0</th>\n",
       "      <td>HAM_0000118</td>\n",
       "      <td>ISIC_0027419</td>\n",
       "      <td>bkl</td>\n",
       "      <td>histo</td>\n",
       "      <td>80.0</td>\n",
       "      <td>male</td>\n",
       "      <td>scalp</td>\n",
       "      <td>skin-cancer-mnist-ham10000/HAM10000_images/ISI...</td>\n",
       "      <td>Benign keratosis-like lesions</td>\n",
       "      <td>2</td>\n",
       "      <td>[[[191, 150, 191], [192, 153, 194], [193, 151,...</td>\n",
       "    </tr>\n",
       "    <tr>\n",
       "      <th>1</th>\n",
       "      <td>HAM_0000118</td>\n",
       "      <td>ISIC_0025030</td>\n",
       "      <td>bkl</td>\n",
       "      <td>histo</td>\n",
       "      <td>80.0</td>\n",
       "      <td>male</td>\n",
       "      <td>scalp</td>\n",
       "      <td>skin-cancer-mnist-ham10000/HAM10000_images/ISI...</td>\n",
       "      <td>Benign keratosis-like lesions</td>\n",
       "      <td>2</td>\n",
       "      <td>[[[23, 13, 23], [25, 14, 30], [39, 26, 49], [6...</td>\n",
       "    </tr>\n",
       "    <tr>\n",
       "      <th>2</th>\n",
       "      <td>HAM_0002730</td>\n",
       "      <td>ISIC_0026769</td>\n",
       "      <td>bkl</td>\n",
       "      <td>histo</td>\n",
       "      <td>80.0</td>\n",
       "      <td>male</td>\n",
       "      <td>scalp</td>\n",
       "      <td>skin-cancer-mnist-ham10000/HAM10000_images/ISI...</td>\n",
       "      <td>Benign keratosis-like lesions</td>\n",
       "      <td>2</td>\n",
       "      <td>[[[186, 130, 141], [192, 136, 151], [198, 143,...</td>\n",
       "    </tr>\n",
       "    <tr>\n",
       "      <th>3</th>\n",
       "      <td>HAM_0002730</td>\n",
       "      <td>ISIC_0025661</td>\n",
       "      <td>bkl</td>\n",
       "      <td>histo</td>\n",
       "      <td>80.0</td>\n",
       "      <td>male</td>\n",
       "      <td>scalp</td>\n",
       "      <td>skin-cancer-mnist-ham10000/HAM10000_images/ISI...</td>\n",
       "      <td>Benign keratosis-like lesions</td>\n",
       "      <td>2</td>\n",
       "      <td>[[[24, 11, 19], [38, 21, 31], [66, 39, 51], [9...</td>\n",
       "    </tr>\n",
       "    <tr>\n",
       "      <th>4</th>\n",
       "      <td>HAM_0001466</td>\n",
       "      <td>ISIC_0031633</td>\n",
       "      <td>bkl</td>\n",
       "      <td>histo</td>\n",
       "      <td>75.0</td>\n",
       "      <td>male</td>\n",
       "      <td>ear</td>\n",
       "      <td>skin-cancer-mnist-ham10000/HAM10000_images/ISI...</td>\n",
       "      <td>Benign keratosis-like lesions</td>\n",
       "      <td>2</td>\n",
       "      <td>[[[141, 97, 120], [160, 115, 140], [179, 134, ...</td>\n",
       "    </tr>\n",
       "  </tbody>\n",
       "</table>\n",
       "</div>"
      ],
      "text/plain": [
       "     lesion_id      image_id   dx dx_type   age   sex localization  \\\n",
       "0  HAM_0000118  ISIC_0027419  bkl   histo  80.0  male        scalp   \n",
       "1  HAM_0000118  ISIC_0025030  bkl   histo  80.0  male        scalp   \n",
       "2  HAM_0002730  ISIC_0026769  bkl   histo  80.0  male        scalp   \n",
       "3  HAM_0002730  ISIC_0025661  bkl   histo  80.0  male        scalp   \n",
       "4  HAM_0001466  ISIC_0031633  bkl   histo  75.0  male          ear   \n",
       "\n",
       "                                                path  \\\n",
       "0  skin-cancer-mnist-ham10000/HAM10000_images/ISI...   \n",
       "1  skin-cancer-mnist-ham10000/HAM10000_images/ISI...   \n",
       "2  skin-cancer-mnist-ham10000/HAM10000_images/ISI...   \n",
       "3  skin-cancer-mnist-ham10000/HAM10000_images/ISI...   \n",
       "4  skin-cancer-mnist-ham10000/HAM10000_images/ISI...   \n",
       "\n",
       "                        cell_type  cell_type_idx  \\\n",
       "0  Benign keratosis-like lesions               2   \n",
       "1  Benign keratosis-like lesions               2   \n",
       "2  Benign keratosis-like lesions               2   \n",
       "3  Benign keratosis-like lesions               2   \n",
       "4  Benign keratosis-like lesions               2   \n",
       "\n",
       "                                               image  \n",
       "0  [[[191, 150, 191], [192, 153, 194], [193, 151,...  \n",
       "1  [[[23, 13, 23], [25, 14, 30], [39, 26, 49], [6...  \n",
       "2  [[[186, 130, 141], [192, 136, 151], [198, 143,...  \n",
       "3  [[[24, 11, 19], [38, 21, 31], [66, 39, 51], [9...  \n",
       "4  [[[141, 97, 120], [160, 115, 140], [179, 134, ...  "
      ]
     },
     "execution_count": 39,
     "metadata": {},
     "output_type": "execute_result"
    }
   ],
   "source": [
    "df2.head()"
   ]
  },
  {
   "cell_type": "code",
   "execution_count": 41,
   "metadata": {},
   "outputs": [
    {
     "data": {
      "text/plain": [
       "(48, 64, 3)"
      ]
     },
     "execution_count": 41,
     "metadata": {},
     "output_type": "execute_result"
    }
   ],
   "source": [
    "df2.image[0].shape"
   ]
  },
  {
   "cell_type": "code",
   "execution_count": null,
   "metadata": {},
   "outputs": [],
   "source": []
  }
 ],
 "metadata": {
  "kernelspec": {
   "display_name": "Python 3",
   "language": "python",
   "name": "python3"
  },
  "language_info": {
   "codemirror_mode": {
    "name": "ipython",
    "version": 3
   },
   "file_extension": ".py",
   "mimetype": "text/x-python",
   "name": "python",
   "nbconvert_exporter": "python",
   "pygments_lexer": "ipython3",
   "version": "3.7.6"
  }
 },
 "nbformat": 4,
 "nbformat_minor": 4
}
